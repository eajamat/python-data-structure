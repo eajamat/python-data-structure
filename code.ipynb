def findSubseq(inputSeq1, inputSeq2):
  '''
  Docstring mentioned in readme
  '''
  if(inputSeq1 == None or inputSeq2 == None):
    return None
  else:
    list1 = []
    for char in inputSeq2:
      list1.append(char)
    for element in list1:
      new_str = inputSeq1.replace(element,'')
      inputSeq1 = new_str
    return new_str
  return None
